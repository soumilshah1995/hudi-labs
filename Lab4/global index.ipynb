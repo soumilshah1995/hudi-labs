{
 "cells": [
  {
   "cell_type": "markdown",
   "id": "794fc562",
   "metadata": {},
   "source": [
    "## Soumil Nitin Shah \n",
    "Bachelor in Electronic Engineering |\n",
    "Masters in Electrical Engineering | \n",
    "Master in Computer Engineering |\n",
    "\n",
    "* Website : http://soumilshah.com/\n",
    "* Github: https://github.com/soumilshah1995\n",
    "* Linkedin: https://www.linkedin.com/in/shah-soumil/\n",
    "* Blog: https://soumilshah1995.blogspot.com/\n",
    "* Youtube : https://www.youtube.com/channel/UC_eOodxvwS_H7x2uLQa-svw?view_as=subscriber\n",
    "* Facebook Page : https://www.facebook.com/soumilshah1995/\n",
    "* Email : shahsoumil519@gmail.com\n",
    "* projects : https://soumilshah.herokuapp.com/project\n",
    "\n",
    "* I earned a Bachelor of Science in Electronic Engineering and a double master’s in Electrical and Computer Engineering. I have extensive expertise in developing scalable and high-performance software applications in Python. I have a YouTube channel where I teach people about Data Science, Machine learning, Elastic search, and AWS. I work as data Team Lead at Jobtarget where I spent most of my time developing Ingestion Framework and creating microservices and scalable architecture on AWS. I have worked with a massive amount of data which includes creating data lakes (1.2T) optimizing data lakes query by creating a partition and using the right file format and compression. I have also developed and worked on a streaming application for ingesting real-time streams data via kinesis and firehose to elastic search"
   ]
  },
  {
   "cell_type": "markdown",
   "id": "34b39f51",
   "metadata": {},
   "source": [
    "#### Goal\n",
    "## How do i get get rid of duplicates and gurantee uniqueness across all partition\n",
    "\n",
    "# Index Types in Hudi\n",
    "\n",
    "* Bloom Index (default): Employs bloom filters built out of the record keys, optionally also pruning candidate files using record key ranges.\n",
    "\n",
    "* Simple Index: Performs a lean join of the incoming update/delete records against keys extracted from the table on storage.\n",
    "* HBase Index: Manages the index mapping in an external Apache HBase table.\n",
    "* Bring your own implementation: You can extend this public API to implement custom indexing.\n",
    "\n",
    "\n",
    "* Another key aspect worth understanding is the difference between global and non-global indexes. Both bloom and simple index have global options - hoodie.index.type=GLOBAL_BLOOM and hoodie.index.type=GLOBAL_SIMPLE - respectively. HBase index is by nature a global index.\n",
    "\n",
    "#### Global index:\n",
    "* Global indexes enforce uniqueness of keys across all partitions of a table i.e guarantees that exactly one record exists in the table for a given record key. Global indexes offer stronger guarantees, but the update/delete cost grows with size of the table O(size of table), which might still be acceptable for smaller tables.\n",
    "\n",
    "#### Non Global index:\n",
    "* On the other hand, the default index implementations enforce this constraint only within a specific partition. As one might imagine, non global indexes depends on the writer to provide the same consistent partition path for a given record key during update/delete, but can deliver much better performance since the index lookup operation becomes O(number of records updated/deleted) and scales well with write volume.\n"
   ]
  },
  {
   "cell_type": "markdown",
   "id": "67a38100",
   "metadata": {},
   "source": [
    "## Step 1: \n",
    "##### Define Imports "
   ]
  },
  {
   "cell_type": "code",
   "execution_count": 1,
   "id": "ba251f06",
   "metadata": {},
   "outputs": [],
   "source": [
    "try:\n",
    "\n",
    "    import os\n",
    "    import sys\n",
    "    import uuid\n",
    "\n",
    "    import pyspark\n",
    "    from pyspark.sql import SparkSession\n",
    "    from pyspark import SparkConf, SparkContext\n",
    "    from pyspark.sql.functions import col, asc, desc\n",
    "    from pyspark.sql.functions import col, to_timestamp, monotonically_increasing_id, to_date, when\n",
    "    from pyspark.sql.functions import *\n",
    "    from pyspark.sql.types import *\n",
    "    from datetime import datetime\n",
    "    from functools import reduce\n",
    "    from faker import Faker\n",
    "\n",
    "\n",
    "except Exception as e:\n",
    "    pass"
   ]
  },
  {
   "cell_type": "markdown",
   "id": "c054bb22",
   "metadata": {},
   "source": [
    "# Step 2:\n",
    "#### Create Spark Instance "
   ]
  },
  {
   "cell_type": "code",
   "execution_count": 2,
   "id": "2b6de397",
   "metadata": {},
   "outputs": [],
   "source": [
    "SUBMIT_ARGS = \"--packages org.apache.hudi:hudi-spark3.3-bundle_2.12:0.12.1 pyspark-shell\"\n",
    "os.environ[\"PYSPARK_SUBMIT_ARGS\"] = SUBMIT_ARGS\n",
    "os.environ['PYSPARK_PYTHON'] = sys.executable\n",
    "os.environ['PYSPARK_DRIVER_PYTHON'] = sys.executable\n",
    "\n",
    "spark = SparkSession.builder \\\n",
    "    .config('spark.serializer', 'org.apache.spark.serializer.KryoSerializer') \\\n",
    "    .config('className', 'org.apache.hudi') \\\n",
    "    .config('spark.sql.hive.convertMetastoreParquet', 'false') \\\n",
    "    .getOrCreate()"
   ]
  },
  {
   "cell_type": "code",
   "execution_count": 3,
   "id": "b5cbf0a5",
   "metadata": {},
   "outputs": [
    {
     "data": {
      "text/html": [
       "\n",
       "            <div>\n",
       "                <p><b>SparkSession - in-memory</b></p>\n",
       "                \n",
       "        <div>\n",
       "            <p><b>SparkContext</b></p>\n",
       "\n",
       "            <p><a href=\"http://JTSTDiSSHAH:4041\">Spark UI</a></p>\n",
       "\n",
       "            <dl>\n",
       "              <dt>Version</dt>\n",
       "                <dd><code>v3.3.1</code></dd>\n",
       "              <dt>Master</dt>\n",
       "                <dd><code>local[*]</code></dd>\n",
       "              <dt>AppName</dt>\n",
       "                <dd><code>pyspark-shell</code></dd>\n",
       "            </dl>\n",
       "        </div>\n",
       "        \n",
       "            </div>\n",
       "        "
      ],
      "text/plain": [
       "<pyspark.sql.session.SparkSession at 0x20fc28733d0>"
      ]
     },
     "execution_count": 3,
     "metadata": {},
     "output_type": "execute_result"
    }
   ],
   "source": [
    "spark"
   ]
  },
  {
   "cell_type": "markdown",
   "id": "9ebd7439",
   "metadata": {},
   "source": [
    "# Step 3: \n",
    "#### Definje Hudi Settings for this project "
   ]
  },
  {
   "cell_type": "code",
   "execution_count": 35,
   "id": "ab498bd8",
   "metadata": {},
   "outputs": [],
   "source": [
    "db_name = \"hudidb\"\n",
    "table_name = \"hudi_table\"\n",
    "\n",
    "recordkey = 'uuid'\n",
    "precombine = 'precomb'\n",
    "\n",
    "path = f\"file:///C:/tmp/{db_name}/{table_name}\"\n",
    "\n",
    "method = 'upsert'\n",
    "table_type = \"COPY_ON_WRITE\"  # COPY_ON_WRITE | MERGE_ON_READ\n",
    "partiton_field = \"partition\"\n",
    "\n",
    "\n",
    "hudi_options = {\n",
    "    'hoodie.table.name': table_name,\n",
    "    'hoodie.datasource.write.recordkey.field': recordkey,\n",
    "    'hoodie.datasource.write.table.name': table_name,\n",
    "    'hoodie.datasource.write.operation': method,\n",
    "    'hoodie.datasource.write.precombine.field': precombine,\n",
    "    'hoodie.upsert.shuffle.parallelism': 2,\n",
    "    'hoodie.insert.shuffle.parallelism': 2,\n",
    "    'hoodie.datasource.write.partitionpath.field': partiton_field,\n",
    "}"
   ]
  },
  {
   "cell_type": "markdown",
   "id": "b2b6bc94",
   "metadata": {},
   "source": [
    "# Step 4:\n",
    "#### Lets create out Hudidatalake and insert records and learn about precomb key"
   ]
  },
  {
   "cell_type": "code",
   "execution_count": 36,
   "id": "b07d9e46",
   "metadata": {},
   "outputs": [
    {
     "name": "stdout",
     "output_type": "stream",
     "text": [
      "+---------+----+-------+-------+-------------------+---------------------+\n",
      "|partition|uuid|precomb|message|_hoodie_commit_time|_hoodie_commit_seqno |\n",
      "+---------+----+-------+-------+-------------------+---------------------+\n",
      "|1        |1   |111    |mess 1 |20230110205311306  |20230110205311306_0_0|\n",
      "|2        |2   |222    |mes 2  |20230110205311306  |20230110205311306_1_0|\n",
      "+---------+----+-------+-------+-------------------+---------------------+\n",
      "\n"
     ]
    }
   ],
   "source": [
    "data_items = [\n",
    "    (1, \"mess 1\",  111, 1),\n",
    "    (2, \"mes 2\",  222, 2),\n",
    "]\n",
    "\n",
    "columns = [\"uuid\", \"message\", \"precomb\", \"partition\"]\n",
    "\n",
    "spark_df = spark.createDataFrame(data=data_items, schema=columns)\n",
    "\n",
    "spark_df.write.format(\"hudi\"). \\\n",
    "    options(**hudi_options). \\\n",
    "    mode(\"append\"). \\\n",
    "    save(path)\n",
    "\n",
    "df = spark. \\\n",
    "      read. \\\n",
    "      format(\"hudi\"). \\\n",
    "      load(path)\n",
    "df.select([\"partition\", \"uuid\", \"precomb\", \"message\", \"_hoodie_commit_time\", \"_hoodie_commit_seqno\"]).show(truncate=False)"
   ]
  },
  {
   "cell_type": "markdown",
   "id": "a8020af2",
   "metadata": {},
   "source": [
    "# Adding one more data"
   ]
  },
  {
   "cell_type": "code",
   "execution_count": 37,
   "id": "9c218352",
   "metadata": {},
   "outputs": [
    {
     "name": "stdout",
     "output_type": "stream",
     "text": [
      "+---------+----+-------+-------+-------------------+---------------------+\n",
      "|partition|uuid|precomb|message|_hoodie_commit_time|_hoodie_commit_seqno |\n",
      "+---------+----+-------+-------+-------------------+---------------------+\n",
      "|2        |2   |222    |mes 2  |20230110205311306  |20230110205311306_1_0|\n",
      "|2        |1   |111    |upt 1  |20230110205428266  |20230110205428266_1_1|\n",
      "|1        |1   |111    |upt 1  |20230110205428266  |20230110205428266_0_0|\n",
      "+---------+----+-------+-------+-------------------+---------------------+\n",
      "\n"
     ]
    }
   ],
   "source": [
    "data_items = [\n",
    "    (1, \"upt 1\",  111, 1),\n",
    "    (1, \"upt 1\",  111, 2),\n",
    "]\n",
    "\n",
    "columns = [\"uuid\", \"message\", \"precomb\", \"partition\"]\n",
    "\n",
    "spark_df = spark.createDataFrame(data=data_items, schema=columns)\n",
    "\n",
    "spark_df.write.format(\"hudi\"). \\\n",
    "    options(**hudi_options). \\\n",
    "    mode(\"append\"). \\\n",
    "    save(path)\n",
    "\n",
    "df = spark. \\\n",
    "      read. \\\n",
    "      format(\"hudi\"). \\\n",
    "      load(path)\n",
    "df.select([\"partition\", \"uuid\", \"precomb\", \"message\", \"_hoodie_commit_time\", \"_hoodie_commit_seqno\"]).show(truncate=False)"
   ]
  },
  {
   "attachments": {
    "image.png": {
     "image/png": "[encoded data removed]"
    }
   },
   "cell_type": "markdown",
   "id": "ee402089",
   "metadata": {},
   "source": [
    "![image.png](attachment:image.png)"
   ]
  },
  {
   "cell_type": "markdown",
   "id": "e4fed4a5",
   "metadata": {},
   "source": [
    "# Global Index "
   ]
  },
  {
   "cell_type": "code",
   "execution_count": 38,
   "id": "0541bdb2",
   "metadata": {},
   "outputs": [],
   "source": [
    "db_name = \"hudidb\"\n",
    "table_name = \"hudi_table\"\n",
    "\n",
    "recordkey = 'uuid'\n",
    "precombine = 'precomb'\n",
    "\n",
    "path = f\"file:///C:/tmp/{db_name}/{table_name}\"\n",
    "\n",
    "method = 'upsert'\n",
    "table_type = \"COPY_ON_WRITE\"  # COPY_ON_WRITE | MERGE_ON_READ\n",
    "partiton_field = \"partition\"\n",
    "\n",
    "\n",
    "hudi_options = {\n",
    "    'hoodie.table.name': table_name,\n",
    "    'hoodie.datasource.write.recordkey.field': recordkey,\n",
    "    'hoodie.datasource.write.table.name': table_name,\n",
    "    'hoodie.datasource.write.operation': method,\n",
    "    'hoodie.datasource.write.precombine.field': precombine,\n",
    "    'hoodie.upsert.shuffle.parallelism': 2,\n",
    "    'hoodie.insert.shuffle.parallelism': 2,\n",
    "    \"hoodie.index.type\":\"GLOBAL_BLOOM\",\n",
    "    'hoodie.datasource.write.partitionpath.field': partiton_field,\n",
    "}"
   ]
  },
  {
   "cell_type": "code",
   "execution_count": 39,
   "id": "89950804",
   "metadata": {},
   "outputs": [
    {
     "name": "stdout",
     "output_type": "stream",
     "text": [
      "+---------+----+-------+-------+-------------------+---------------------+\n",
      "|partition|uuid|precomb|message|_hoodie_commit_time|_hoodie_commit_seqno |\n",
      "+---------+----+-------+-------+-------------------+---------------------+\n",
      "|1        |1   |111    |mess 1 |20230110205624296  |20230110205624296_0_0|\n",
      "|2        |2   |222    |mes 2  |20230110205624296  |20230110205624296_1_0|\n",
      "+---------+----+-------+-------+-------------------+---------------------+\n",
      "\n"
     ]
    }
   ],
   "source": [
    "data_items = [\n",
    "    (1, \"mess 1\",  111, 1),\n",
    "    (2, \"mes 2\",  222, 2),\n",
    "]\n",
    "\n",
    "columns = [\"uuid\", \"message\", \"precomb\", \"partition\"]\n",
    "\n",
    "spark_df = spark.createDataFrame(data=data_items, schema=columns)\n",
    "\n",
    "spark_df.write.format(\"hudi\"). \\\n",
    "    options(**hudi_options). \\\n",
    "    mode(\"append\"). \\\n",
    "    save(path)\n",
    "\n",
    "df = spark. \\\n",
    "      read. \\\n",
    "      format(\"hudi\"). \\\n",
    "      load(path)\n",
    "df.select([\"partition\", \"uuid\", \"precomb\", \"message\", \"_hoodie_commit_time\", \"_hoodie_commit_seqno\"]).show(truncate=False)"
   ]
  },
  {
   "cell_type": "markdown",
   "id": "ad59a23d",
   "metadata": {},
   "source": [
    "# Append 2"
   ]
  },
  {
   "cell_type": "code",
   "execution_count": 40,
   "id": "004949ac",
   "metadata": {},
   "outputs": [
    {
     "name": "stdout",
     "output_type": "stream",
     "text": [
      "+---------+----+-------+-------+-------------------+---------------------+\n",
      "|partition|uuid|precomb|message|_hoodie_commit_time|_hoodie_commit_seqno |\n",
      "+---------+----+-------+-------+-------------------+---------------------+\n",
      "|2        |2   |222    |mes 2  |20230110205624296  |20230110205624296_1_0|\n",
      "|2        |1   |111    |upt 1  |20230110205705586  |20230110205705586_1_1|\n",
      "+---------+----+-------+-------+-------------------+---------------------+\n",
      "\n"
     ]
    }
   ],
   "source": [
    "data_items = [\n",
    "    (1, \"upt 1\",  111, 1),\n",
    "    (1, \"upt 1\",  111, 2),\n",
    "]\n",
    "\n",
    "columns = [\"uuid\", \"message\", \"precomb\", \"partition\"]\n",
    "\n",
    "spark_df = spark.createDataFrame(data=data_items, schema=columns)\n",
    "\n",
    "spark_df.write.format(\"hudi\"). \\\n",
    "    options(**hudi_options). \\\n",
    "    mode(\"append\"). \\\n",
    "    save(path)\n",
    "\n",
    "df = spark. \\\n",
    "      read. \\\n",
    "      format(\"hudi\"). \\\n",
    "      load(path)\n",
    "df.select([\"partition\", \"uuid\", \"precomb\", \"message\", \"_hoodie_commit_time\", \"_hoodie_commit_seqno\"]).show(truncate=False)"
   ]
  },
  {
   "cell_type": "code",
   "execution_count": null,
   "id": "0d7ca1e1",
   "metadata": {},
   "outputs": [],
   "source": []
  }
 ],
 "metadata": {
  "kernelspec": {
   "display_name": "Python 3 (ipykernel)",
   "language": "python",
   "name": "python3"
  },
  "language_info": {
   "codemirror_mode": {
    "name": "ipython",
    "version": 3
   },
   "file_extension": ".py",
   "mimetype": "text/x-python",
   "name": "python",
   "nbconvert_exporter": "python",
   "pygments_lexer": "ipython3",
   "version": "3.9.13"
  }
 },
 "nbformat": 4,
 "nbformat_minor": 5
}
