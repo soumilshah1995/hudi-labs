{
	"metadata": {
		"kernelspec": {
			"name": "glue_pyspark",
			"display_name": "Glue PySpark",
			"language": "python"
		},
		"language_info": {
			"name": "Python_Glue_Session",
			"mimetype": "text/x-python",
			"codemirror_mode": {
				"name": "python",
				"version": 3
			},
			"pygments_lexer": "python3",
			"file_extension": ".py"
		}
	},
	"nbformat_minor": 4,
	"nbformat": 4,
	"cells": [
		{
			"cell_type": "markdown",
			"source": "\n# Glue Studio Notebook\nYou are now running a **Glue Studio** notebook; before you can start using your notebook you *must* start an interactive session.\n\n## Available Magics\n|          Magic              |   Type       |                                                                        Description                                                                        |\n|-----------------------------|--------------|-----------------------------------------------------------------------------------------------------------------------------------------------------------|\n| %%configure                 |  Dictionary  |  A json-formatted dictionary consisting of all configuration parameters for a session. Each parameter can be specified here or through individual magics. |\n| %profile                    |  String      |  Specify a profile in your aws configuration to use as the credentials provider.                                                                          |\n| %iam_role                   |  String      |  Specify an IAM role to execute your session with.                                                                                                        |\n| %region                     |  String      |  Specify the AWS region in which to initialize a session.                                                                                                 |\n| %session_id                 |  String      |  Returns the session ID for the running session.                                                                                                          |\n| %connections                |  List        |  Specify a comma separated list of connections to use in the session.                                                                                     |\n| %additional_python_modules  |  List        |  Comma separated list of pip packages, s3 paths or private pip arguments.                                                                                 |\n| %extra_py_files             |  List        |  Comma separated list of additional Python files from S3.                                                                                                 |\n| %extra_jars                 |  List        |  Comma separated list of additional Jars to include in the cluster.                                                                                       |\n| %number_of_workers          |  Integer     |  The number of workers of a defined worker_type that are allocated when a job runs. worker_type must be set too.                                          |\n| %glue_version               |  String      |  The version of Glue to be used by this session. Currently, the only valid options are 2.0 and 3.0 (eg: %glue_version 2.0).                               |\n| %security_config            |  String      |  Define a security configuration to be used with this session.                                                                                            |\n| %sql                        |  String      |  Run SQL code. All lines after the initial %%sql magic will be passed as part of the SQL code.                                                            |\n| %streaming                  |  String      |  Changes the session type to Glue Streaming.                                                                                                              |\n| %etl                        |  String      |  Changes the session type to Glue ETL.                                                                                                                    |\n| %status                     |              |  Returns the status of the current Glue session including its duration, configuration and executing user / role.                                          |\n| %stop_session               |              |  Stops the current session.                                                                                                                               |\n| %list_sessions              |              |  Lists all currently running sessions by name and ID.                                                                                                     |\n| %worker_type                |  String      |  Standard, G.1X, *or* G.2X. number_of_workers must be set too. Default is G.1X.                                                                           |\n| %spark_conf                 |  String      |  Specify custom spark configurations for your session. E.g. %spark_conf spark.serializer=org.apache.spark.serializer.KryoSerializer.                      |",
			"metadata": {
				"editable": false,
				"deletable": false,
				"trusted": true
			}
		},
		{
			"cell_type": "code",
			"source": "%stop_session",
			"metadata": {
				"trusted": true
			},
			"execution_count": 10,
			"outputs": [
				{
					"name": "stdout",
					"text": "Stopping session: f9980bcb-e0c0-463f-9055-66d35acb6116\nStopped session.\n",
					"output_type": "stream"
				}
			]
		},
		{
			"cell_type": "markdown",
			"source": "# Step 1 define Settings",
			"metadata": {}
		},
		{
			"cell_type": "code",
			"source": "%connections hudi-connection\n%glue_version 3.0\n%region us-west-2\n%worker_type G.1X\n%number_of_workers 3\n%spark_conf spark.serializer=org.apache.spark.serializer.KryoSerializer\n%additional_python_modules Faker",
			"metadata": {
				"trusted": true
			},
			"execution_count": 8,
			"outputs": [
				{
					"name": "stdout",
					"text": "Welcome to the Glue Interactive Sessions Kernel\nFor more information on available magic commands, please type %help in any new cell.\n\nPlease view our Getting Started page to access the most up-to-date information on the Interactive Sessions kernel: https://docs.aws.amazon.com/glue/latest/dg/interactive-sessions.html\nInstalled kernel version: 0.37.0 \nConnections to be included:\nhudi-connection\nSetting Glue version to: 3.0\nPrevious region: us-west-2\nSetting new region to: us-west-2\nReauthenticating Glue client with new region: us-west-2\nIAM role has been set to arn:aws:iam::043916019468:role/Lab3. Reauthenticating.\nAuthenticating with environment variables and user-defined glue_role_arn: arn:aws:iam::043916019468:role/Lab3\nAuthentication done.\nRegion is set to: us-west-2\nPrevious worker type: G.1X\nSetting new worker type to: G.1X\nPrevious number of workers: 5\nSetting new number of workers to: 3\nPrevious Spark configuration: None\nSetting new Spark configuration to: spark.serializer=org.apache.spark.serializer.KryoSerializer\nAdditional python modules to be included:\nFaker\n",
					"output_type": "stream"
				}
			]
		},
		{
			"cell_type": "markdown",
			"source": "# Step 2: Define Imports",
			"metadata": {}
		},
		{
			"cell_type": "code",
			"source": "try:\n    import sys\n    from awsglue.transforms import *\n    from awsglue.utils import getResolvedOptions\n    from pyspark.context import SparkContext\n    from awsglue.context import GlueContext\n    from awsglue.job import Job\n    from pyspark.sql.session import SparkSession\n    from awsglue.dynamicframe import DynamicFrame\n    from pyspark.sql.functions import col, to_timestamp, monotonically_increasing_id, to_date, when\n    from pyspark.sql.functions import *\n    from awsglue.utils import getResolvedOptions\n    from pyspark.sql.types import *\n    from datetime import datetime\n    import boto3\n    from functools import reduce\nexcept Exception as e:\n    pass",
			"metadata": {
				"trusted": true
			},
			"execution_count": 1,
			"outputs": [
				{
					"name": "stdout",
					"text": "Trying to create a Glue session for the kernel.\nWorker Type: G.1X\nNumber of Workers: 3\nSession ID: 9c22bfce-8c32-4b35-a234-e8dca21cbea7\nJob Type: glueetl\nApplying the following default arguments:\n--glue_kernel_version 0.37.0\n--enable-glue-datacatalog true\n--conf spark.serializer=org.apache.spark.serializer.KryoSerializer\n--additional-python-modules Faker\nWaiting for session 9c22bfce-8c32-4b35-a234-e8dca21cbea7 to get into ready status...\nSession 9c22bfce-8c32-4b35-a234-e8dca21cbea7 has been created.\n\n",
					"output_type": "stream"
				}
			]
		},
		{
			"cell_type": "markdown",
			"source": "# Step 3: Create Spark Session",
			"metadata": {}
		},
		{
			"cell_type": "code",
			"source": "spark = SparkSession.builder.config('spark.serializer','org.apache.spark.serializer.KryoSerializer').config('spark.sql.hive.convertMetastoreParquet','false').config('spark.sql.legacy.pathOptionBehavior.enabled', 'true') .getOrCreate()\n\nsc = spark.sparkContext\nglueContext = GlueContext(sc)\njob = Job(glueContext)\nlogger = glueContext.get_logger()",
			"metadata": {
				"trusted": true
			},
			"execution_count": 2,
			"outputs": [
				{
					"name": "stdout",
					"text": "\n",
					"output_type": "stream"
				}
			]
		},
		{
			"cell_type": "markdown",
			"source": "# Creating Hudi Tables ",
			"metadata": {}
		},
		{
			"cell_type": "code",
			"source": "db_name = \"hudidb\"\ntable_name=\"hudi_table\"\n\nrecordkey = 'emp_id'\nprecombine = 'ts'\n\npath = \"s3://soumilshah-hudi-demos/tmp/\"\n\nmethod = 'upsert'\ntable_type = \"COPY_ON_WRITE\"\n\nconnection_options={\n    \"path\": path,\n    \"connectionName\": \"hudi-connection\",\n\n    \"hoodie.datasource.write.storage.type\": table_type,\n    'className': 'org.apache.hudi',\n    'hoodie.table.name': table_name,\n    'hoodie.datasource.write.recordkey.field': recordkey,\n    'hoodie.datasource.write.table.name': table_name,\n    'hoodie.datasource.write.operation': method,\n    'hoodie.datasource.write.precombine.field': precombine,\n\n\n    'hoodie.datasource.hive_sync.enable': 'true',\n    \"hoodie.datasource.hive_sync.mode\":\"hms\",\n    'hoodie.datasource.hive_sync.sync_as_datasource': 'false',\n    'hoodie.datasource.hive_sync.database': db_name,\n    'hoodie.datasource.hive_sync.table': table_name,\n    'hoodie.datasource.hive_sync.use_jdbc': 'false',\n    'hoodie.datasource.hive_sync.partition_extractor_class': 'org.apache.hudi.hive.MultiPartKeysValueExtractor',\n    'hoodie.datasource.write.hive_style_partitioning': 'true',\n}",
			"metadata": {
				"trusted": true
			},
			"execution_count": 39,
			"outputs": [
				{
					"name": "stdout",
					"text": "\n",
					"output_type": "stream"
				}
			]
		},
		{
			"cell_type": "code",
			"source": "impleDataUpd = [\n    (1, \"This is APPEND 1\", \"Sales\", \"RJ\", 81000, 30, 23000, 827307999),\n    (2, \"This is APPEND 2\", \"Engineering\", \"RJ\", 79000, 53, 15000, 1627694678),\n]\n\ncolumns = [\"emp_id\", \"employee_name\", \"department\", \"state\", \"salary\", \"age\", \"bonus\", \"ts\"]\nspark_df = spark.createDataFrame(data=impleDataUpd, schema=columns)\n\n\n\nWriteDF = (\n    glueContext.write_dynamic_frame.from_options(\n        frame=DynamicFrame.fromDF(spark_df, glueContext,\"glue_df\"),\n        connection_type=\"marketplace.spark\",\n        connection_options=connection_options,\n        transformation_ctx=\"glue_df\",\n    )\n)\n\nspark.sql(f\"select * from {db_name}.{table_name} \").show(truncate=False)\n",
			"metadata": {
				"trusted": true
			},
			"execution_count": 54,
			"outputs": [
				{
					"name": "stdout",
					"text": "+-------------------+---------------------+------------------+----------------------+---------------------------------------------------------------------------+------+----------------+-----------+-----+------+---+-----+----------+\n|_hoodie_commit_time|_hoodie_commit_seqno |_hoodie_record_key|_hoodie_partition_path|_hoodie_file_name                                                          |emp_id|employee_name   |department |state|salary|age|bonus|ts        |\n+-------------------+---------------------+------------------+----------------------+---------------------------------------------------------------------------+------+----------------+-----------+-----+------+---+-----+----------+\n|20230106235917496  |20230106235917496_0_5|1                 |                      |ba6886a1-2ff5-4f4b-90c0-83b8aa1689c1-0_0-150-2519_20230106235917496.parquet|1     |This is APPEND 1|Sales      |RJ   |81000 |30 |23000|827307999 |\n|20230106235917496  |20230106235917496_0_6|2                 |                      |ba6886a1-2ff5-4f4b-90c0-83b8aa1689c1-0_0-150-2519_20230106235917496.parquet|2     |This is APPEND 2|Engineering|RJ   |79000 |53 |15000|1627694678|\n+-------------------+---------------------+------------------+----------------------+---------------------------------------------------------------------------+------+----------------+-----------+-----+------+---+-----+----------+\n",
					"output_type": "stream"
				}
			]
		},
		{
			"cell_type": "markdown",
			"source": "# Incremental Data  Processing ",
			"metadata": {}
		},
		{
			"cell_type": "code",
			"source": "spark. \\\n      read. \\\n      format(\"hudi\"). \\\n      load(path). \\\n      createOrReplaceTempView(\"hudi_snapshot\")\n\ncommits = list(map(lambda row: row[0], spark.sql(\"select distinct(_hoodie_commit_time) as commitTime from  hudi_snapshot order by commitTime\").limit(50).collect()))\nbeginTime = commits[len(commits) - 2] # commit time we are interested in\n\nprint(f\"commits : {commits} beginTime : {beginTime} \")\n\nincremental_read_options = {\n  'hoodie.datasource.query.type': 'incremental',\n  'hoodie.datasource.read.begin.instanttime': beginTime,\n}\n\nIncrementalDF = spark.read.format(\"hudi\"). \\\n  options(**incremental_read_options). \\\n  load(path)\n\nIncrementalDF.createOrReplaceTempView(\"hudi_incremental\")\nspark.sql(\"select * from  hudi_incremental\").show()\n",
			"metadata": {
				"trusted": true
			},
			"execution_count": 55,
			"outputs": [
				{
					"name": "stdout",
					"text": "commits : ['20230106235917496'] beginTime : 20230106235917496 \n+-------------------+--------------------+------------------+----------------------+-----------------+------+-------------+----------+-----+------+---+-----+---+\n|_hoodie_commit_time|_hoodie_commit_seqno|_hoodie_record_key|_hoodie_partition_path|_hoodie_file_name|emp_id|employee_name|department|state|salary|age|bonus| ts|\n+-------------------+--------------------+------------------+----------------------+-----------------+------+-------------+----------+-----+------+---+-----+---+\n+-------------------+--------------------+------------------+----------------------+-----------------+------+-------------+----------+-----+------+---+-----+---+\n",
					"output_type": "stream"
				}
			]
		},
		{
			"cell_type": "markdown",
			"source": "## Inserting Sample New records and then updating one records \n### Goal is to see new data that was added and updated records\n",
			"metadata": {}
		},
		{
			"cell_type": "code",
			"source": "impleDataUpd = [\n    (1, \"This is UPDATE 1\", \"Sales\", \"RJ\", 81000, 30, 23000, 827307999),\n    (3, \"This is NEW APPEND 2\", \"Engineering\", \"RJ\", 79000, 53, 15000, 1627694678),\n]\n\ncolumns = [\"emp_id\", \"employee_name\", \"department\", \"state\", \"salary\", \"age\", \"bonus\", \"ts\"]\nspark_df = spark.createDataFrame(data=impleDataUpd, schema=columns)\nspark_df.show()\nWriteDF = (\n    glueContext.write_dynamic_frame.from_options(\n        frame=DynamicFrame.fromDF(spark_df, glueContext,\"glue_df\"),\n        connection_type=\"marketplace.spark\",\n        connection_options=connection_options,\n        transformation_ctx=\"glue_df\",\n    )\n)\n\nspark.sql(f\"select * from {db_name}.{table_name} \").show(truncate=False)\n",
			"metadata": {
				"trusted": true
			},
			"execution_count": 56,
			"outputs": [
				{
					"name": "stdout",
					"text": "+------+--------------------+-----------+-----+------+---+-----+----------+\n|emp_id|       employee_name| department|state|salary|age|bonus|        ts|\n+------+--------------------+-----------+-----+------+---+-----+----------+\n|     1|    This is UPDATE 1|      Sales|   RJ| 81000| 30|23000| 827307999|\n|     3|This is NEW APPEND 2|Engineering|   RJ| 79000| 53|15000|1627694678|\n+------+--------------------+-----------+-----+------+---+-----+----------+\n\n+-------------------+---------------------+------------------+----------------------+---------------------------------------------------------------------------+------+--------------------+-----------+-----+------+---+-----+----------+\n|_hoodie_commit_time|_hoodie_commit_seqno |_hoodie_record_key|_hoodie_partition_path|_hoodie_file_name                                                          |emp_id|employee_name       |department |state|salary|age|bonus|ts        |\n+-------------------+---------------------+------------------+----------------------+---------------------------------------------------------------------------+------+--------------------+-----------+-----+------+---+-----+----------+\n|20230107000130345  |20230107000130345_0_1|1                 |                      |ba6886a1-2ff5-4f4b-90c0-83b8aa1689c1-0_0-194-3412_20230107000130345.parquet|1     |This is UPDATE 1    |Sales      |RJ   |81000 |30 |23000|827307999 |\n|20230106235917496  |20230106235917496_0_6|2                 |                      |ba6886a1-2ff5-4f4b-90c0-83b8aa1689c1-0_0-150-2519_20230106235917496.parquet|2     |This is APPEND 2    |Engineering|RJ   |79000 |53 |15000|1627694678|\n|20230107000130345  |20230107000130345_0_2|3                 |                      |ba6886a1-2ff5-4f4b-90c0-83b8aa1689c1-0_0-194-3412_20230107000130345.parquet|3     |This is NEW APPEND 2|Engineering|RJ   |79000 |53 |15000|1627694678|\n+-------------------+---------------------+------------------+----------------------+---------------------------------------------------------------------------+------+--------------------+-----------+-----+------+---+-----+----------+\n",
					"output_type": "stream"
				}
			]
		},
		{
			"cell_type": "markdown",
			"source": "# Running Incremental Query to See if we see updated data and new incoming data ",
			"metadata": {}
		},
		{
			"cell_type": "code",
			"source": "spark. \\\n      read. \\\n      format(\"hudi\"). \\\n      load(path). \\\n      createOrReplaceTempView(\"hudi_snapshot\")\n\ncommits = list(map(lambda row: row[0], spark.sql(\"select distinct(_hoodie_commit_time) as commitTime from  hudi_snapshot order by commitTime\").limit(50).collect()))\nbeginTime = commits[len(commits) - 2] # commit time we are interested in\n\nprint(f\"commits : {commits} beginTime : {beginTime} \")\n\nincremental_read_options = {\n  'hoodie.datasource.query.type': 'incremental',\n  'hoodie.datasource.read.begin.instanttime': beginTime,\n}\n\nIncrementalDF = spark.read.format(\"hudi\"). \\\n  options(**incremental_read_options). \\\n  load(path)\n\nIncrementalDF.createOrReplaceTempView(\"hudi_incremental\")\nspark.sql(\"select * from  hudi_incremental\").show()\n",
			"metadata": {
				"trusted": true
			},
			"execution_count": 57,
			"outputs": [
				{
					"name": "stdout",
					"text": "commits : ['20230106235917496', '20230107000130345'] beginTime : 20230106235917496 \n+-------------------+--------------------+------------------+----------------------+--------------------+------+--------------------+-----------+-----+------+---+-----+----------+\n|_hoodie_commit_time|_hoodie_commit_seqno|_hoodie_record_key|_hoodie_partition_path|   _hoodie_file_name|emp_id|       employee_name| department|state|salary|age|bonus|        ts|\n+-------------------+--------------------+------------------+----------------------+--------------------+------+--------------------+-----------+-----+------+---+-----+----------+\n|  20230107000130345|20230107000130345...|                 1|                      |ba6886a1-2ff5-4f4...|     1|    This is UPDATE 1|      Sales|   RJ| 81000| 30|23000| 827307999|\n|  20230107000130345|20230107000130345...|                 3|                      |ba6886a1-2ff5-4f4...|     3|This is NEW APPEND 2|Engineering|   RJ| 79000| 53|15000|1627694678|\n+-------------------+--------------------+------------------+----------------------+--------------------+------+--------------------+-----------+-----+------+---+-----+----------+\n",
					"output_type": "stream"
				}
			]
		},
		{
			"cell_type": "code",
			"source": "",
			"metadata": {},
			"execution_count": null,
			"outputs": []
		}
	]
}