{
 "cells": [
  {
   "cell_type": "markdown",
   "id": "229e53c2",
   "metadata": {},
   "source": [
    "# Soumil Nitin Shah \n",
    "Bachelor in Electronic Engineering |\n",
    "Masters in Electrical Engineering | \n",
    "Master in Computer Engineering |\n",
    "\n",
    "* Website : http://soumilshah.com/\n",
    "* Github: https://github.com/soumilshah1995\n",
    "* Linkedin: https://www.linkedin.com/in/shah-soumil/\n",
    "* Blog: https://soumilshah1995.blogspot.com/\n",
    "* Youtube : https://www.youtube.com/channel/UC_eOodxvwS_H7x2uLQa-svw?view_as=subscriber\n",
    "* Facebook Page : https://www.facebook.com/soumilshah1995/\n",
    "* Email : shahsoumil519@gmail.com\n",
    "* projects : https://soumilshah.herokuapp.com/project\n",
    "\n",
    "* I earned a Bachelor of Science in Electronic Engineering and a double master’s in Electrical and Computer Engineering. I have extensive expertise in developing scalable and high-performance software applications in Python. I have a YouTube channel where I teach people about Data Science, Machine learning, Elastic search, and AWS. I work as data Team Lead at Jobtarget where I spent most of my time developing Ingestion Framework and creating microservices and scalable architecture on AWS. I have worked with a massive amount of data which includes creating data lakes (1.2T) optimizing data lakes query by creating a partition and using the right file format and compression. I have also developed and worked on a streaming application for ingesting real-time streams data via kinesis and firehose to elastic search"
   ]
  },
  {
   "cell_type": "markdown",
   "id": "d70bc7d9",
   "metadata": {},
   "source": [
    "# Learn About HUDI Soft Deletes\n",
    "\n"
   ]
  },
  {
   "cell_type": "code",
   "execution_count": 221,
   "id": "841ebeaf",
   "metadata": {},
   "outputs": [
    {
     "name": "stdout",
     "output_type": "stream",
     "text": [
      "All modules are loaded .....\n"
     ]
    }
   ],
   "source": [
    "try:\n",
    "    import os\n",
    "    import sys\n",
    "    import uuid\n",
    "\n",
    "    import boto3\n",
    "\n",
    "    import pyspark\n",
    "    from pyspark import SparkConf, SparkContext\n",
    "    from pyspark.sql import SparkSession\n",
    "    from pyspark.sql.functions import col, asc, desc\n",
    "    from faker import Faker\n",
    "    from pyspark.sql.functions import *\n",
    "    print(\"All modules are loaded .....\")\n",
    "\n",
    "except Exception as e:\n",
    "    print(\"Some modules are missing {} \".format(e))\n"
   ]
  },
  {
   "cell_type": "code",
   "execution_count": 222,
   "id": "f5771c47",
   "metadata": {},
   "outputs": [],
   "source": [
    "SUBMIT_ARGS = \"--packages org.apache.hudi:hudi-spark3.3-bundle_2.12:0.12.1 pyspark-shell\"\n",
    "os.environ[\"PYSPARK_SUBMIT_ARGS\"] = SUBMIT_ARGS\n",
    "os.environ['PYSPARK_PYTHON'] = sys.executable\n",
    "os.environ['PYSPARK_DRIVER_PYTHON'] = sys.executable\n",
    "\n",
    "spark = SparkSession.builder \\\n",
    "    .config('spark.serializer', 'org.apache.spark.serializer.KryoSerializer') \\\n",
    "    .config('spark.sql.extensions', 'org.apache.spark.sql.hudi.HoodieSparkSessionExtension') \\\n",
    "    .config('className', 'org.apache.hudi') \\\n",
    "    .config('spark.sql.hive.convertMetastoreParquet', 'false') \\\n",
    "    .getOrCreate()"
   ]
  },
  {
   "cell_type": "code",
   "execution_count": 223,
   "id": "574f814d",
   "metadata": {},
   "outputs": [
    {
     "data": {
      "text/html": [
       "\n",
       "            <div>\n",
       "                <p><b>SparkSession - in-memory</b></p>\n",
       "                \n",
       "        <div>\n",
       "            <p><b>SparkContext</b></p>\n",
       "\n",
       "            <p><a href=\"http://JTSTDiSSHAH:4040\">Spark UI</a></p>\n",
       "\n",
       "            <dl>\n",
       "              <dt>Version</dt>\n",
       "                <dd><code>v3.3.1</code></dd>\n",
       "              <dt>Master</dt>\n",
       "                <dd><code>local[*]</code></dd>\n",
       "              <dt>AppName</dt>\n",
       "                <dd><code>pyspark-shell</code></dd>\n",
       "            </dl>\n",
       "        </div>\n",
       "        \n",
       "            </div>\n",
       "        "
      ],
      "text/plain": [
       "<pyspark.sql.session.SparkSession at 0x1a8fc693610>"
      ]
     },
     "execution_count": 223,
     "metadata": {},
     "output_type": "execute_result"
    }
   ],
   "source": [
    "spark"
   ]
  },
  {
   "cell_type": "markdown",
   "id": "03f30f3d",
   "metadata": {},
   "source": [
    "# Inserting some data into Hudi Tables "
   ]
  },
  {
   "cell_type": "code",
   "execution_count": 224,
   "id": "1abf791e",
   "metadata": {},
   "outputs": [
    {
     "name": "stdout",
     "output_type": "stream",
     "text": [
      "+--------------------------------------------------------------------------+------+--------------+\n",
      "|_hoodie_file_name                                                         |emp_id|employee_name |\n",
      "+--------------------------------------------------------------------------+------+--------------+\n",
      "|1c288720-ab7a-43c1-8482-17b64a0d9a94-0_0-717-853_20230117175856050.parquet|12    |This is APPEND|\n",
      "|1c288720-ab7a-43c1-8482-17b64a0d9a94-0_0-717-853_20230117175856050.parquet|11    |This is APPEND|\n",
      "+--------------------------------------------------------------------------+------+--------------+\n",
      "\n"
     ]
    }
   ],
   "source": [
    "db_name = \"hudidb\"\n",
    "table_name = \"hudi_table\"\n",
    "\n",
    "recordkey = 'emp_id'\n",
    "precombine = 'ts'\n",
    "\n",
    "path = f\"file:///C:/tmp/{db_name}/{table_name}\"\n",
    "method = 'upsert'\n",
    "table_type = \"COPY_ON_WRITE\"  # COPY_ON_WRITE | MERGE_ON_READ\n",
    "\n",
    "hudi_options = {\n",
    "    'hoodie.table.name': table_name,\n",
    "    'hoodie.datasource.write.recordkey.field': recordkey,\n",
    "    'hoodie.datasource.write.table.name': table_name,\n",
    "    'hoodie.datasource.write.operation': method,\n",
    "    'hoodie.datasource.write.precombine.field': precombine,\n",
    "    'hoodie.upsert.shuffle.parallelism': 2,\n",
    "    'hoodie.insert.shuffle.parallelism': 2\n",
    "}\n",
    "\n",
    "data_items = [\n",
    "    (11, \"This is APPEND\", \"Sales\", \"RJ\", 81000, 30, 23000, 827307999),\n",
    "    (12, \"This is APPEND\", \"Engineering\", \"RJ\", 79000, 53, 15000, 1627694678),\n",
    "]\n",
    "columns = [\"emp_id\", \"employee_name\", \"department\", \"state\", \"salary\", \"age\", \"bonus\", \"ts\"]\n",
    "\n",
    "spark_df = spark.createDataFrame(data=data_items, schema=columns)\n",
    "\n",
    "spark_df.write.format(\"hudi\"). \\\n",
    "    options(**hudi_options). \\\n",
    "    mode(\"append\"). \\\n",
    "    save(path)\n",
    "\n",
    "df = spark. \\\n",
    "      read. \\\n",
    "      format(\"hudi\"). \\\n",
    "      load(path)\n",
    "\n",
    "df.select([\"_hoodie_file_name\", \"emp_id\", \"employee_name\"]).show(truncate=False)"
   ]
  },
  {
   "cell_type": "markdown",
   "id": "4ccb3329",
   "metadata": {},
   "source": [
    "# Performing Soft Deletes"
   ]
  },
  {
   "cell_type": "markdown",
   "id": "9c50a35c",
   "metadata": {},
   "source": [
    "##### Step 1: Create Snapshot  "
   ]
  },
  {
   "cell_type": "code",
   "execution_count": 225,
   "id": "9fe5f110",
   "metadata": {},
   "outputs": [],
   "source": [
    "spark. \\\n",
    "      read. \\\n",
    "      format(\"hudi\"). \\\n",
    "      load(path). \\\n",
    "      createOrReplaceTempView(\"hudi_snapshot\")"
   ]
  },
  {
   "cell_type": "markdown",
   "id": "052173b8",
   "metadata": {},
   "source": [
    "#### Write SQL query for data point where you want to perfrom soft delete "
   ]
  },
  {
   "cell_type": "code",
   "execution_count": 226,
   "id": "332cf9ed",
   "metadata": {},
   "outputs": [
    {
     "name": "stdout",
     "output_type": "stream",
     "text": [
      "+--------------------------------------------------------------------------+------+--------------+\n",
      "|_hoodie_file_name                                                         |emp_id|employee_name |\n",
      "+--------------------------------------------------------------------------+------+--------------+\n",
      "|1c288720-ab7a-43c1-8482-17b64a0d9a94-0_0-717-853_20230117175856050.parquet|11    |This is APPEND|\n",
      "+--------------------------------------------------------------------------+------+--------------+\n",
      "\n"
     ]
    }
   ],
   "source": [
    "soft_delete_ds  = spark.sql(\"SELECT * FROM hudi_snapshot where emp_id='11' \")\n",
    "\n",
    "soft_delete_ds.select([\"_hoodie_file_name\", \"emp_id\", \"employee_name\"]).show(truncate=False)"
   ]
  },
  {
   "cell_type": "code",
   "execution_count": 227,
   "id": "4a5a9d2f",
   "metadata": {},
   "outputs": [],
   "source": [
    "meta_columns = [\n",
    "    \"_hoodie_commit_time\",\n",
    "    \"_hoodie_commit_seqno\",\n",
    "    \"_hoodie_record_key\", \n",
    "    \"_hoodie_partition_path\",\n",
    "    \"_hoodie_file_name\"\n",
    "]\n",
    "excluded_columns = meta_columns + [\"ts\", \"emp_id\"]\n",
    "\n",
    "nullify_columns = list(__builtin__.filter(lambda field: field[0] not in excluded_columns, \n",
    "  list(map(lambda field: (field.name, field.dataType), soft_delete_ds.schema.fields))))\n",
    "soft_delete_df = reduce(lambda df, col: df.withColumn(col[0], lit(None).cast(col[1])),\n",
    "                        nullify_columns, reduce(lambda df,col: df.drop(col[0]), meta_columns, soft_delete_ds))\n"
   ]
  },
  {
   "cell_type": "code",
   "execution_count": 228,
   "id": "d6bfcf31",
   "metadata": {},
   "outputs": [],
   "source": [
    "soft_delete_df.write.format(\"hudi\"). \\\n",
    "    options(**hudi_options). \\\n",
    "    mode(\"append\"). \\\n",
    "    save(path)\n"
   ]
  },
  {
   "cell_type": "markdown",
   "id": "a2282591",
   "metadata": {},
   "source": [
    "# Read Again from Datalake"
   ]
  },
  {
   "cell_type": "code",
   "execution_count": 229,
   "id": "9442722c",
   "metadata": {},
   "outputs": [
    {
     "data": {
      "text/html": [
       "<div>\n",
       "<style scoped>\n",
       "    .dataframe tbody tr th:only-of-type {\n",
       "        vertical-align: middle;\n",
       "    }\n",
       "\n",
       "    .dataframe tbody tr th {\n",
       "        vertical-align: top;\n",
       "    }\n",
       "\n",
       "    .dataframe thead th {\n",
       "        text-align: right;\n",
       "    }\n",
       "</style>\n",
       "<table border=\"1\" class=\"dataframe\">\n",
       "  <thead>\n",
       "    <tr style=\"text-align: right;\">\n",
       "      <th></th>\n",
       "      <th>_hoodie_commit_time</th>\n",
       "      <th>_hoodie_commit_seqno</th>\n",
       "      <th>_hoodie_record_key</th>\n",
       "      <th>_hoodie_partition_path</th>\n",
       "      <th>_hoodie_file_name</th>\n",
       "      <th>emp_id</th>\n",
       "      <th>employee_name</th>\n",
       "      <th>department</th>\n",
       "      <th>state</th>\n",
       "      <th>salary</th>\n",
       "      <th>age</th>\n",
       "      <th>bonus</th>\n",
       "      <th>ts</th>\n",
       "    </tr>\n",
       "  </thead>\n",
       "  <tbody>\n",
       "    <tr>\n",
       "      <th>0</th>\n",
       "      <td>20230117175856050</td>\n",
       "      <td>20230117175856050_0_0</td>\n",
       "      <td>12</td>\n",
       "      <td></td>\n",
       "      <td>1c288720-ab7a-43c1-8482-17b64a0d9a94-0_0-753-8...</td>\n",
       "      <td>12</td>\n",
       "      <td>This is APPEND</td>\n",
       "      <td>Engineering</td>\n",
       "      <td>RJ</td>\n",
       "      <td>79000.0</td>\n",
       "      <td>53.0</td>\n",
       "      <td>15000.0</td>\n",
       "      <td>1627694678</td>\n",
       "    </tr>\n",
       "    <tr>\n",
       "      <th>1</th>\n",
       "      <td>20230117180008210</td>\n",
       "      <td>20230117180008210_0_1</td>\n",
       "      <td>11</td>\n",
       "      <td></td>\n",
       "      <td>1c288720-ab7a-43c1-8482-17b64a0d9a94-0_0-753-8...</td>\n",
       "      <td>11</td>\n",
       "      <td>None</td>\n",
       "      <td>None</td>\n",
       "      <td>None</td>\n",
       "      <td>NaN</td>\n",
       "      <td>NaN</td>\n",
       "      <td>NaN</td>\n",
       "      <td>827307999</td>\n",
       "    </tr>\n",
       "  </tbody>\n",
       "</table>\n",
       "</div>"
      ],
      "text/plain": [
       "  _hoodie_commit_time   _hoodie_commit_seqno _hoodie_record_key  \\\n",
       "0   20230117175856050  20230117175856050_0_0                 12   \n",
       "1   20230117180008210  20230117180008210_0_1                 11   \n",
       "\n",
       "  _hoodie_partition_path                                  _hoodie_file_name  \\\n",
       "0                         1c288720-ab7a-43c1-8482-17b64a0d9a94-0_0-753-8...   \n",
       "1                         1c288720-ab7a-43c1-8482-17b64a0d9a94-0_0-753-8...   \n",
       "\n",
       "   emp_id   employee_name   department state   salary   age    bonus  \\\n",
       "0      12  This is APPEND  Engineering    RJ  79000.0  53.0  15000.0   \n",
       "1      11            None         None  None      NaN   NaN      NaN   \n",
       "\n",
       "           ts  \n",
       "0  1627694678  \n",
       "1   827307999  "
      ]
     },
     "execution_count": 229,
     "metadata": {},
     "output_type": "execute_result"
    }
   ],
   "source": [
    "df = spark. \\\n",
    "      read. \\\n",
    "      format(\"hudi\"). \\\n",
    "      load(path)\n",
    "\n",
    "df.toPandas()"
   ]
  },
  {
   "cell_type": "code",
   "execution_count": null,
   "id": "75b122d9",
   "metadata": {},
   "outputs": [],
   "source": []
  }
 ],
 "metadata": {
  "kernelspec": {
   "display_name": "Python 3 (ipykernel)",
   "language": "python",
   "name": "python3"
  },
  "language_info": {
   "codemirror_mode": {
    "name": "ipython",
    "version": 3
   },
   "file_extension": ".py",
   "mimetype": "text/x-python",
   "name": "python",
   "nbconvert_exporter": "python",
   "pygments_lexer": "ipython3",
   "version": "3.9.13"
  }
 },
 "nbformat": 4,
 "nbformat_minor": 5
}
